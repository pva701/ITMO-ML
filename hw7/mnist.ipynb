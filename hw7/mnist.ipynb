{
 "cells": [
  {
   "cell_type": "code",
   "execution_count": 162,
   "metadata": {
    "collapsed": true
   },
   "outputs": [],
   "source": [
    "import numpy as np\n",
    "import time\n",
    "import pickle"
   ]
  },
  {
   "cell_type": "code",
   "execution_count": 132,
   "metadata": {
    "collapsed": false
   },
   "outputs": [
    {
     "name": "stdout",
     "output_type": "stream",
     "text": [
      "['x_test', 'x_train', 'x_valid', 'y_valid', 'y_train', 'y_test']\n"
     ]
    }
   ],
   "source": [
    "data = np.load('data/mnist.npz', 'rb')\n",
    "print(data.keys())\n",
    "(_, x_test), (_, x_train), (_, x_valid), (_, y_valid), (_, y_train), (_, y_test) = data.items()"
   ]
  },
  {
   "cell_type": "code",
   "execution_count": 133,
   "metadata": {
    "collapsed": true
   },
   "outputs": [],
   "source": [
    "lam = 0.001\n",
    "class FCLayer:\n",
    "    def __init__(self, shape, nonlinearity, nonlinearity_der):\n",
    "        self.W = np.random.normal(0, 0.02, shape)\n",
    "        self.b = np.random.normal(0, 0.02, shape[1])\n",
    "        self.nonlinearity = nonlinearity\n",
    "        self.nonlinearity_der = nonlinearity_der\n",
    "        \n",
    "    def forward(self, x):\n",
    "        self.x = x\n",
    "        self.r = np.dot(x, self.W) + self.b\n",
    "        self.o = self.nonlinearity(self.r)\n",
    "        return self.o\n",
    "    \n",
    "    def backward(self, delta):\n",
    "        delta = np.dot(delta, self.nonlinearity_der(self.r))\n",
    "        \n",
    "        dB = delta\n",
    "        dW = np.outer(self.x, delta)\n",
    "        delta = np.dot(delta, self.W.T)\n",
    "\n",
    "        self.W -= learning_rate * (dW + lam*self.W.mean())\n",
    "        self.b -= learning_rate * dB\n",
    "        \n",
    "        return delta"
   ]
  },
  {
   "cell_type": "code",
   "execution_count": 134,
   "metadata": {
    "collapsed": true
   },
   "outputs": [],
   "source": [
    "def sigmoid(x):\n",
    "    return 1./(1 + np.exp(-x))\n",
    "\n",
    "def sigmoid_der(x):\n",
    "    s = sigmoid(x)\n",
    "    return np.diag(s * (1 - s))\n",
    "\n",
    "def softmax(x):\n",
    "    return np.exp(x)/np.exp(x).sum()\n",
    "\n",
    "def softmax_der(x):\n",
    "    p = softmax(x)\n",
    "    t = np.outer(p, p)\n",
    "    return np.diag(p) - t"
   ]
  },
  {
   "cell_type": "code",
   "execution_count": 135,
   "metadata": {
    "collapsed": false
   },
   "outputs": [],
   "source": [
    "def create_net():\n",
    "    net = [\n",
    "        FCLayer((784, 256), sigmoid, sigmoid_der),\n",
    "        FCLayer((256, 128), sigmoid, sigmoid_der),\n",
    "        FCLayer((128, 64), sigmoid, sigmoid_der),\n",
    "        FCLayer((64, 10), softmax, softmax_der),\n",
    "    ]\n",
    "    return net"
   ]
  },
  {
   "cell_type": "code",
   "execution_count": 156,
   "metadata": {
    "collapsed": true
   },
   "outputs": [],
   "source": [
    "def train(net, x, y):\n",
    "    o = x\n",
    "    for layer in net:\n",
    "        o = layer.forward(o)\n",
    "    delta = np.zeros(10)\n",
    "    delta[y] = -1./o[y]\n",
    "    loss = -np.log(o[y])\n",
    "    for layer in net[::-1]:\n",
    "        delta = layer.backward(delta)\n",
    "    return loss\n",
    "\n",
    "def predict(net, x):\n",
    "    o = x\n",
    "    for layer in net:\n",
    "        o = layer.forward(o)\n",
    "    return np.argmax(o)\n",
    "\n",
    "def accuracy(net, X, Y):\n",
    "    c = 0\n",
    "    for x, y in zip(X, Y):\n",
    "        if predict(net, x) == y:\n",
    "            c += 1\n",
    "    return c/len(X)\n",
    "\n",
    "net = create_net()"
   ]
  },
  {
   "cell_type": "code",
   "execution_count": 161,
   "metadata": {
    "collapsed": false
   },
   "outputs": [
    {
     "name": "stdout",
     "output_type": "stream",
     "text": [
      "epoch: 0\n",
      "loss: 1.09098495751\n",
      "valid acc: 0.9324\n",
      "train acc: 0.92616\n",
      "time: 279.37629103660583\n",
      "epoch: 1\n",
      "loss: 0.210268508114\n",
      "valid acc: 0.9548\n",
      "train acc: 0.9525\n",
      "time: 195.05173921585083\n",
      "epoch: 2\n",
      "loss: 0.13749972534\n",
      "valid acc: 0.9517\n",
      "train acc: 0.95682\n",
      "time: 197.0195951461792\n"
     ]
    },
    {
     "ename": "KeyboardInterrupt",
     "evalue": "",
     "output_type": "error",
     "traceback": [
      "\u001b[0;31m---------------------------------------------------------------------------\u001b[0m",
      "\u001b[0;31mKeyboardInterrupt\u001b[0m                         Traceback (most recent call last)",
      "\u001b[0;32m<ipython-input-161-d74236a5b79e>\u001b[0m in \u001b[0;36m<module>\u001b[0;34m()\u001b[0m\n\u001b[1;32m      8\u001b[0m     \u001b[0mstart\u001b[0m \u001b[0;34m=\u001b[0m \u001b[0mtime\u001b[0m\u001b[0;34m.\u001b[0m\u001b[0mtime\u001b[0m\u001b[0;34m(\u001b[0m\u001b[0;34m)\u001b[0m\u001b[0;34m\u001b[0m\u001b[0m\n\u001b[1;32m      9\u001b[0m     \u001b[0;32mfor\u001b[0m \u001b[0mi\u001b[0m\u001b[0;34m,\u001b[0m \u001b[0;34m(\u001b[0m\u001b[0mx\u001b[0m\u001b[0;34m,\u001b[0m \u001b[0my\u001b[0m\u001b[0;34m)\u001b[0m \u001b[0;32min\u001b[0m \u001b[0menumerate\u001b[0m\u001b[0;34m(\u001b[0m\u001b[0mzip\u001b[0m\u001b[0;34m(\u001b[0m\u001b[0mx_train\u001b[0m\u001b[0;34m,\u001b[0m \u001b[0my_train\u001b[0m\u001b[0;34m)\u001b[0m\u001b[0;34m)\u001b[0m\u001b[0;34m:\u001b[0m\u001b[0;34m\u001b[0m\u001b[0m\n\u001b[0;32m---> 10\u001b[0;31m         \u001b[0mloss\u001b[0m \u001b[0;34m+=\u001b[0m \u001b[0mtrain\u001b[0m\u001b[0;34m(\u001b[0m\u001b[0mnet\u001b[0m\u001b[0;34m,\u001b[0m \u001b[0mx\u001b[0m\u001b[0;34m,\u001b[0m \u001b[0my\u001b[0m\u001b[0;34m)\u001b[0m\u001b[0;34m\u001b[0m\u001b[0m\n\u001b[0m\u001b[1;32m     11\u001b[0m     \u001b[0mloss\u001b[0m \u001b[0;34m/=\u001b[0m \u001b[0mlen\u001b[0m\u001b[0;34m(\u001b[0m\u001b[0mx_train\u001b[0m\u001b[0;34m)\u001b[0m\u001b[0;34m\u001b[0m\u001b[0m\n\u001b[1;32m     12\u001b[0m     \u001b[0mvalid_acc\u001b[0m \u001b[0;34m=\u001b[0m \u001b[0maccuracy\u001b[0m\u001b[0;34m(\u001b[0m\u001b[0mnet\u001b[0m\u001b[0;34m,\u001b[0m \u001b[0mx_valid\u001b[0m\u001b[0;34m,\u001b[0m \u001b[0my_valid\u001b[0m\u001b[0;34m)\u001b[0m\u001b[0;34m\u001b[0m\u001b[0m\n",
      "\u001b[0;32m<ipython-input-156-3e362c4b5f21>\u001b[0m in \u001b[0;36mtrain\u001b[0;34m(net, x, y)\u001b[0m\n\u001b[1;32m      7\u001b[0m     \u001b[0mloss\u001b[0m \u001b[0;34m=\u001b[0m \u001b[0;34m-\u001b[0m\u001b[0mnp\u001b[0m\u001b[0;34m.\u001b[0m\u001b[0mlog\u001b[0m\u001b[0;34m(\u001b[0m\u001b[0mo\u001b[0m\u001b[0;34m[\u001b[0m\u001b[0my\u001b[0m\u001b[0;34m]\u001b[0m\u001b[0;34m)\u001b[0m\u001b[0;34m\u001b[0m\u001b[0m\n\u001b[1;32m      8\u001b[0m     \u001b[0;32mfor\u001b[0m \u001b[0mlayer\u001b[0m \u001b[0;32min\u001b[0m \u001b[0mnet\u001b[0m\u001b[0;34m[\u001b[0m\u001b[0;34m:\u001b[0m\u001b[0;34m:\u001b[0m\u001b[0;34m-\u001b[0m\u001b[0;36m1\u001b[0m\u001b[0;34m]\u001b[0m\u001b[0;34m:\u001b[0m\u001b[0;34m\u001b[0m\u001b[0m\n\u001b[0;32m----> 9\u001b[0;31m         \u001b[0mdelta\u001b[0m \u001b[0;34m=\u001b[0m \u001b[0mlayer\u001b[0m\u001b[0;34m.\u001b[0m\u001b[0mbackward\u001b[0m\u001b[0;34m(\u001b[0m\u001b[0mdelta\u001b[0m\u001b[0;34m)\u001b[0m\u001b[0;34m\u001b[0m\u001b[0m\n\u001b[0m\u001b[1;32m     10\u001b[0m     \u001b[0;32mreturn\u001b[0m \u001b[0mloss\u001b[0m\u001b[0;34m\u001b[0m\u001b[0m\n\u001b[1;32m     11\u001b[0m \u001b[0;34m\u001b[0m\u001b[0m\n",
      "\u001b[0;32m<ipython-input-133-2932a9c339f7>\u001b[0m in \u001b[0;36mbackward\u001b[0;34m(self, delta)\u001b[0m\n\u001b[1;32m     20\u001b[0m         \u001b[0mdelta\u001b[0m \u001b[0;34m=\u001b[0m \u001b[0mnp\u001b[0m\u001b[0;34m.\u001b[0m\u001b[0mdot\u001b[0m\u001b[0;34m(\u001b[0m\u001b[0mdelta\u001b[0m\u001b[0;34m,\u001b[0m \u001b[0mself\u001b[0m\u001b[0;34m.\u001b[0m\u001b[0mW\u001b[0m\u001b[0;34m.\u001b[0m\u001b[0mT\u001b[0m\u001b[0;34m)\u001b[0m\u001b[0;34m\u001b[0m\u001b[0m\n\u001b[1;32m     21\u001b[0m \u001b[0;34m\u001b[0m\u001b[0m\n\u001b[0;32m---> 22\u001b[0;31m         \u001b[0mself\u001b[0m\u001b[0;34m.\u001b[0m\u001b[0mW\u001b[0m \u001b[0;34m-=\u001b[0m \u001b[0mlearning_rate\u001b[0m \u001b[0;34m*\u001b[0m \u001b[0;34m(\u001b[0m\u001b[0mdW\u001b[0m \u001b[0;34m+\u001b[0m \u001b[0mlam\u001b[0m\u001b[0;34m*\u001b[0m\u001b[0mself\u001b[0m\u001b[0;34m.\u001b[0m\u001b[0mW\u001b[0m\u001b[0;34m.\u001b[0m\u001b[0mmean\u001b[0m\u001b[0;34m(\u001b[0m\u001b[0;34m)\u001b[0m\u001b[0;34m)\u001b[0m\u001b[0;34m\u001b[0m\u001b[0m\n\u001b[0m\u001b[1;32m     23\u001b[0m         \u001b[0mself\u001b[0m\u001b[0;34m.\u001b[0m\u001b[0mb\u001b[0m \u001b[0;34m-=\u001b[0m \u001b[0mlearning_rate\u001b[0m \u001b[0;34m*\u001b[0m \u001b[0mdB\u001b[0m\u001b[0;34m\u001b[0m\u001b[0m\n\u001b[1;32m     24\u001b[0m \u001b[0;34m\u001b[0m\u001b[0m\n",
      "\u001b[0;31mKeyboardInterrupt\u001b[0m: "
     ]
    }
   ],
   "source": [
    "learning_rate = 0.1\n",
    "#x_train_cut, y_train_cut = x_train[:1000], y_train[:1000]\n",
    "losses = []\n",
    "train_accs = []\n",
    "valid_accs = []\n",
    "\n",
    "best_valid = 0\n",
    "\n",
    "for k in range(10):\n",
    "    loss = 0\n",
    "    start = time.time()\n",
    "    for i, (x, y) in enumerate(zip(x_train, y_train)):\n",
    "        loss += train(net, x, y)\n",
    "    loss /= len(x_train)\n",
    "    valid_acc = accuracy(net, x_valid, y_valid)\n",
    "    train_acc = accuracy(net, x_train, y_train)\n",
    "    \n",
    "    losses.append(loss)\n",
    "    valid_accs.append(valid_acc)\n",
    "    train_accs.append(train_acc)\n",
    "    if valid_acc > best_valid:\n",
    "        best_valid = valid_acc\n",
    "        with open('net.pkl', 'wb') as out:\n",
    "            pickle.dump(net, out)\n",
    "    \n",
    "    print('epoch:', k)\n",
    "    print('loss:', loss)\n",
    "    print('valid acc:', valid_acc)\n",
    "    print('train acc:', train_acc)\n",
    "    print('time:', time.time()-start)\n",
    "    "
   ]
  },
  {
   "cell_type": "code",
   "execution_count": 165,
   "metadata": {
    "collapsed": false
   },
   "outputs": [
    {
     "name": "stdout",
     "output_type": "stream",
     "text": [
      "0.96\n",
      "1.2019028663635254\n"
     ]
    }
   ],
   "source": [
    "start = time.time()\n",
    "print(accuracy(net, x_valid, y_valid))\n",
    "print(time.time() - start)"
   ]
  },
  {
   "cell_type": "code",
   "execution_count": 163,
   "metadata": {
    "collapsed": true
   },
   "outputs": [],
   "source": [
    "with open('net.pkl', 'wb') as out:\n",
    "    pickle.dump(net, out)"
   ]
  },
  {
   "cell_type": "code",
   "execution_count": null,
   "metadata": {
    "collapsed": true
   },
   "outputs": [],
   "source": []
  }
 ],
 "metadata": {
  "kernelspec": {
   "display_name": "Python 3",
   "language": "python",
   "name": "python3"
  },
  "language_info": {
   "codemirror_mode": {
    "name": "ipython",
    "version": 3
   },
   "file_extension": ".py",
   "mimetype": "text/x-python",
   "name": "python",
   "nbconvert_exporter": "python",
   "pygments_lexer": "ipython3",
   "version": "3.5.2"
  }
 },
 "nbformat": 4,
 "nbformat_minor": 1
}
