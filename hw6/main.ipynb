{
 "cells": [
  {
   "cell_type": "code",
   "execution_count": 215,
   "metadata": {
    "collapsed": false
   },
   "outputs": [],
   "source": [
    "import numpy as np\n",
    "import scipy\n",
    "import pandas as pnd\n",
    "import theano\n",
    "import theano.tensor as T\n",
    "from lasagne.updates import adam as optimize\n",
    "import time\n",
    "from collections import Counter\n",
    "from theano.tensor.extra_ops import to_one_hot"
   ]
  },
  {
   "cell_type": "code",
   "execution_count": 216,
   "metadata": {
    "collapsed": true
   },
   "outputs": [],
   "source": [
    "table_csv = pnd.read_csv('data/train.csv')"
   ]
  },
  {
   "cell_type": "code",
   "execution_count": 217,
   "metadata": {
    "collapsed": false
   },
   "outputs": [
    {
     "name": "stdout",
     "output_type": "stream",
     "text": [
      "3.60411121861\n",
      "(89164901, 3)\n"
     ]
    }
   ],
   "source": [
    "table = np.int32(table_csv.as_matrix())\n",
    "#table = table[(table[:, 0] < 10000) * (table[:, 1] < 1000)]\n",
    "users_n = len(np.unique(table[:, 0]))\n",
    "films_n = len(np.unique(table[:, 1]))\n",
    "#users_n = 10000\n",
    "#films_n = 1000\n",
    "\n",
    "valid_size = int(0.1 * len(table))\n",
    "valid = table[-valid_size:]\n",
    "table = table[:-valid_size]\n",
    "\n",
    "mu = table[:, 2].mean()\n",
    "\n",
    "print(mu)\n",
    "print(table.shape)"
   ]
  },
  {
   "cell_type": "code",
   "execution_count": 218,
   "metadata": {
    "collapsed": false
   },
   "outputs": [],
   "source": [
    "f = 40\n",
    "U = theano.shared(np.float32(np.random.normal(0, 0.01, (users_n, f))))\n",
    "F = theano.shared(np.float32(np.random.normal(0, 0.01, (films_n, f))))\n",
    "bu = theano.shared(np.float32(np.random.normal(0, 0.01, users_n)))\n",
    "bf = theano.shared(np.float32(np.random.normal(0, 0.01, films_n)))\n"
   ]
  },
  {
   "cell_type": "code",
   "execution_count": 219,
   "metadata": {
    "collapsed": false
   },
   "outputs": [],
   "source": [
    "lmbd = 0.02\n",
    "lrt = 0.005\n",
    "user_batch, film_batch, ratings = T.ivector(), T.ivector(), T.ivector()\n",
    "\n",
    "predict = mu + bu[user_batch] + bf[film_batch] + T.batched_dot(U[user_batch], F[film_batch])\n",
    "loss = ((predict-ratings)**2).mean() + lmbd*((U[user_batch]**2).mean() + (F[film_batch]**2).mean() +\\\n",
    "                               (bu[user_batch]**2).mean() + (bf[film_batch]**2).mean())\n",
    "    \n",
    "def train_loop(u, f, r, U, F, bu, bf):\n",
    "    prediction = mu + bu[u] + bf[f] + T.dot(U[u], F[f])\n",
    "    err = prediction - r\n",
    "    lss = (err**2) + lmbd*((U[u]**2).mean() + (F[f]**2).mean() +\\\n",
    "                               (bu[u]**2).mean() + (bf[f]**2).mean())\n",
    "    dbu = np.float32(2.) * err + (lmbd * np.float32(2.) * bu[u])\n",
    "    dbf = np.float32(2.) * err + (lmbd * np.float32(2.) * bf[f])\n",
    "    dU  = (np.float32(2.) * err * F[f]) + lmbd * np.float32(2.) * U[u]\n",
    "    dF  = (np.float32(2.) * err * U[u]) + lmbd * np.float32(2.) * F[f]\n",
    "    U -= lrt * dU\n",
    "    F -= lrt * dF\n",
    "    bu -= lrt * dbu\n",
    "    bf -= lrt * dbf\n",
    "    return lss, prediction\n",
    "\n",
    "result, updates = theano.scan(train_loop, sequences=[user_batch, film_batch, ratings], non_sequences=[U, F, bu, bf])\n",
    "updates = optimize(loss, [U, F, bu, bf], lrt)"
   ]
  },
  {
   "cell_type": "code",
   "execution_count": 220,
   "metadata": {
    "collapsed": false
   },
   "outputs": [],
   "source": [
    "predict_fn = theano.function([user_batch, film_batch], predict)\n",
    "train_fn = theano.function([user_batch, film_batch, ratings], [loss, predict], updates=updates)"
   ]
  },
  {
   "cell_type": "code",
   "execution_count": 221,
   "metadata": {
    "collapsed": false
   },
   "outputs": [
    {
     "name": "stdout",
     "output_type": "stream",
     "text": [
      "0.00016832351684570312\n",
      "0.8761703968048096\n"
     ]
    }
   ],
   "source": [
    "start = time.time()\n",
    "batch_size = 1024*128\n",
    "#idxs = np.arange(0, len(table), dtype=np.int32)\n",
    "#np.random.shuffle(idxs)  \n",
    "#table = table[idxs]\n",
    "print(time.time() - start)\n",
    "start = time.time()\n",
    "train_fn(table[:batch_size, 0], table[:batch_size, 1], table[:batch_size, 2])\n",
    "print(time.time() - start)"
   ]
  },
  {
   "cell_type": "code",
   "execution_count": null,
   "metadata": {
    "collapsed": false
   },
   "outputs": [
    {
     "name": "stdout",
     "output_type": "stream",
     "text": [
      "epoch 0\n",
      "loss  0.792711975472\n",
      "train rmse: 0.888616551899\n",
      "valid rmse: 0.866574399877\n",
      "time: 459.4908375740051\n",
      "epoch 1\n",
      "loss  0.651829953903\n",
      "train rmse: 0.804264242284\n",
      "valid rmse: 0.855397510438\n",
      "time: 423.01605319976807\n",
      "epoch 2\n",
      "loss  0.599090366785\n",
      "train rmse: 0.770317314823\n",
      "valid rmse: 0.858595190681\n",
      "time: 424.7209253311157\n"
     ]
    },
    {
     "ename": "KeyboardInterrupt",
     "evalue": "",
     "output_type": "error",
     "traceback": [
      "\u001b[0;31m---------------------------------------------------------------------------\u001b[0m",
      "\u001b[0;31mKeyboardInterrupt\u001b[0m                         Traceback (most recent call last)",
      "\u001b[0;32m<ipython-input-222-74671531d675>\u001b[0m in \u001b[0;36m<module>\u001b[0;34m()\u001b[0m\n\u001b[1;32m     19\u001b[0m             \u001b[0;32mbreak\u001b[0m\u001b[0;34m\u001b[0m\u001b[0m\n\u001b[1;32m     20\u001b[0m         \u001b[0midx\u001b[0m \u001b[0;34m=\u001b[0m \u001b[0mnp\u001b[0m\u001b[0;34m.\u001b[0m\u001b[0marange\u001b[0m\u001b[0;34m(\u001b[0m\u001b[0mi\u001b[0m\u001b[0;34m,\u001b[0m \u001b[0mi\u001b[0m\u001b[0;34m+\u001b[0m\u001b[0mbatch_size\u001b[0m\u001b[0;34m)\u001b[0m\u001b[0;34m\u001b[0m\u001b[0m\n\u001b[0;32m---> 21\u001b[0;31m         \u001b[0mtmp\u001b[0m \u001b[0;34m=\u001b[0m \u001b[0mtrain_fn\u001b[0m\u001b[0;34m(\u001b[0m\u001b[0mtable\u001b[0m\u001b[0;34m[\u001b[0m\u001b[0midx\u001b[0m\u001b[0;34m,\u001b[0m \u001b[0;36m0\u001b[0m\u001b[0;34m]\u001b[0m\u001b[0;34m,\u001b[0m \u001b[0mtable\u001b[0m\u001b[0;34m[\u001b[0m\u001b[0midx\u001b[0m\u001b[0;34m,\u001b[0m \u001b[0;36m1\u001b[0m\u001b[0;34m]\u001b[0m\u001b[0;34m,\u001b[0m \u001b[0mtable\u001b[0m\u001b[0;34m[\u001b[0m\u001b[0midx\u001b[0m\u001b[0;34m,\u001b[0m \u001b[0;36m2\u001b[0m\u001b[0;34m]\u001b[0m\u001b[0;34m)\u001b[0m\u001b[0;34m\u001b[0m\u001b[0m\n\u001b[0m\u001b[1;32m     22\u001b[0m         \u001b[0mres\u001b[0m \u001b[0;34m+=\u001b[0m \u001b[0mtmp\u001b[0m\u001b[0;34m[\u001b[0m\u001b[0;36m0\u001b[0m\u001b[0;34m]\u001b[0m\u001b[0;34m\u001b[0m\u001b[0m\n\u001b[1;32m     23\u001b[0m         \u001b[0mtrain_rmse\u001b[0m \u001b[0;34m+=\u001b[0m \u001b[0;34m(\u001b[0m\u001b[0;34m(\u001b[0m\u001b[0mtable\u001b[0m\u001b[0;34m[\u001b[0m\u001b[0midx\u001b[0m\u001b[0;34m,\u001b[0m \u001b[0;36m2\u001b[0m\u001b[0;34m]\u001b[0m \u001b[0;34m-\u001b[0m \u001b[0mtmp\u001b[0m\u001b[0;34m[\u001b[0m\u001b[0;36m1\u001b[0m\u001b[0;34m]\u001b[0m\u001b[0;34m)\u001b[0m\u001b[0;34m**\u001b[0m\u001b[0;36m2\u001b[0m\u001b[0;34m)\u001b[0m\u001b[0;34m.\u001b[0m\u001b[0msum\u001b[0m\u001b[0;34m(\u001b[0m\u001b[0;34m)\u001b[0m\u001b[0;34m\u001b[0m\u001b[0m\n",
      "\u001b[0;32m/usr/local/lib/python3.5/dist-packages/theano/compile/function_module.py\u001b[0m in \u001b[0;36m__call__\u001b[0;34m(self, *args, **kwargs)\u001b[0m\n\u001b[1;32m    864\u001b[0m         \u001b[0;32mtry\u001b[0m\u001b[0;34m:\u001b[0m\u001b[0;34m\u001b[0m\u001b[0m\n\u001b[1;32m    865\u001b[0m             \u001b[0moutputs\u001b[0m \u001b[0;34m=\u001b[0m\u001b[0;31m\\\u001b[0m\u001b[0;34m\u001b[0m\u001b[0m\n\u001b[0;32m--> 866\u001b[0;31m                 \u001b[0mself\u001b[0m\u001b[0;34m.\u001b[0m\u001b[0mfn\u001b[0m\u001b[0;34m(\u001b[0m\u001b[0;34m)\u001b[0m \u001b[0;32mif\u001b[0m \u001b[0moutput_subset\u001b[0m \u001b[0;32mis\u001b[0m \u001b[0;32mNone\u001b[0m \u001b[0;32melse\u001b[0m\u001b[0;31m\\\u001b[0m\u001b[0;34m\u001b[0m\u001b[0m\n\u001b[0m\u001b[1;32m    867\u001b[0m                 \u001b[0mself\u001b[0m\u001b[0;34m.\u001b[0m\u001b[0mfn\u001b[0m\u001b[0;34m(\u001b[0m\u001b[0moutput_subset\u001b[0m\u001b[0;34m=\u001b[0m\u001b[0moutput_subset\u001b[0m\u001b[0;34m)\u001b[0m\u001b[0;34m\u001b[0m\u001b[0m\n\u001b[1;32m    868\u001b[0m         \u001b[0;32mexcept\u001b[0m \u001b[0mException\u001b[0m\u001b[0;34m:\u001b[0m\u001b[0;34m\u001b[0m\u001b[0m\n",
      "\u001b[0;31mKeyboardInterrupt\u001b[0m: "
     ]
    }
   ],
   "source": [
    "epochs = 100\n",
    "best_valid = 100.\n",
    "best_model = None#(U.get_value(), F.get_value(), bu.get_value(), bf.get_value())\n",
    "#U.set_value(best_model[0])\n",
    "#F.set_value(best_model[1])\n",
    "#bu.set_value(best_model[2])\n",
    "#bf.set_value(best_model[3])\n",
    "\n",
    "for epoch in range(epochs):\n",
    "    idxs = np.arange(0, len(table), dtype=np.int32)\n",
    "    np.random.shuffle(idxs)\n",
    "    table = table[idxs]\n",
    "    res = 0\n",
    "    cnt = 0\n",
    "    start = time.time()\n",
    "    train_rmse = 0\n",
    "    for i in range(0, len(table), batch_size):\n",
    "        if i + batch_size > len(table):\n",
    "            break\n",
    "        idx = np.arange(i, i+batch_size)\n",
    "        tmp = train_fn(table[idx, 0], table[idx, 1], table[idx, 2])\n",
    "        res += tmp[0]\n",
    "        train_rmse += ((table[idx, 2] - tmp[1])**2).sum()\n",
    "        cnt += 1\n",
    "        \n",
    "    print('epoch', epoch)\n",
    "    print('loss ', res/cnt)\n",
    "    print('train rmse:', (train_rmse/(cnt*batch_size))**0.5)\n",
    "    \n",
    "    valid_pred = predict_fn(valid[:, 0], valid[:, 1])\n",
    "    valid_true = valid[:, 2]\n",
    "    valid_scor = ((valid_pred-valid_true)**2).mean()**0.5\n",
    "    if valid_scor < best_valid:\n",
    "        best_valid = valid_scor\n",
    "        best_model = (U.get_value(), F.get_value(), bu.get_value(), bf.get_value())\n",
    "    print('valid rmse:', valid_scor)\n",
    "    print('time:', time.time()-start)"
   ]
  },
  {
   "cell_type": "code",
   "execution_count": 223,
   "metadata": {
    "collapsed": false
   },
   "outputs": [],
   "source": [
    "test_table = pnd.read_csv('data/test-ids.csv')\n",
    "test = np.int32(test_table.as_matrix())"
   ]
  },
  {
   "cell_type": "code",
   "execution_count": 224,
   "metadata": {
    "collapsed": false
   },
   "outputs": [
    {
     "data": {
      "text/plain": [
       "0.8553975104379512"
      ]
     },
     "execution_count": 224,
     "metadata": {},
     "output_type": "execute_result"
    }
   ],
   "source": [
    "best_valid"
   ]
  },
  {
   "cell_type": "code",
   "execution_count": 226,
   "metadata": {
    "collapsed": false
   },
   "outputs": [
    {
     "name": "stdout",
     "output_type": "stream",
     "text": [
      "0.0930648007128682\n",
      "0.1861296014257364\n",
      "0.2791944021386046\n",
      "0.3722592028514728\n",
      "0.46532400356434095\n",
      "0.5583888042772092\n",
      "0.6514536049900773\n",
      "0.7445184057029456\n",
      "0.8375832064158137\n",
      "0.9306480071286819\n",
      "1.0\n"
     ]
    }
   ],
   "source": [
    "U.set_value(best_model[0])\n",
    "F.set_value(best_model[1])\n",
    "bu.set_value(best_model[2])\n",
    "bf.set_value(best_model[3])\n",
    "\n",
    "predictions = []\n",
    "for i in range(0, len(test), batch_size):\n",
    "    predictions += list(predict_fn(test[:, 1], test[:, 2]))\n",
    "    print(min((i+batch_size), len(test))/len(test))\n",
    "    \n",
    "#predictions = np.array(predictions)\n",
    "with open('s.txt', 'w+') as out:\n",
    "    out.write('Id,Prediction\\n')\n",
    "    for i, p in zip(list(test[:, 0]), predictions):\n",
    "        out.write(str(i) + ',' + str(p) + '\\n')"
   ]
  },
  {
   "cell_type": "code",
   "execution_count": null,
   "metadata": {
    "collapsed": true
   },
   "outputs": [],
   "source": []
  }
 ],
 "metadata": {
  "kernelspec": {
   "display_name": "Python 3",
   "language": "python",
   "name": "python3"
  },
  "language_info": {
   "codemirror_mode": {
    "name": "ipython",
    "version": 3
   },
   "file_extension": ".py",
   "mimetype": "text/x-python",
   "name": "python",
   "nbconvert_exporter": "python",
   "pygments_lexer": "ipython3",
   "version": "3.5.2"
  }
 },
 "nbformat": 4,
 "nbformat_minor": 1
}
