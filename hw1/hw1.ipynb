{
 "cells": [
  {
   "cell_type": "code",
   "execution_count": 7,
   "metadata": {
    "collapsed": false
   },
   "outputs": [
    {
     "name": "stdout",
     "output_type": "stream",
     "text": [
      "Populating the interactive namespace from numpy and matplotlib\n",
      "Total points: 118\n"
     ]
    }
   ],
   "source": [
    "%pylab inline\n",
    "%reload_ext autoreload\n",
    "%autoreload 2\n",
    "\n",
    "import csv\n",
    "\n",
    "x = []\n",
    "y = []\n",
    "c = []\n",
    "x_true = []\n",
    "y_true = []\n",
    "x_false = []\n",
    "y_false = []\n",
    "with open('data/chips.csv', 'r') as csvfile:\n",
    "    data = csv.reader(csvfile)\n",
    "    int_data = []\n",
    "    for row in data:\n",
    "        int_data.append([float(row[0]), float(row[1]), int(row[2])])\n",
    "        color = int(row[2])\n",
    "        xp = float(row[0])\n",
    "        yp = float(row[1])\n",
    "        x.append(xp)\n",
    "        y.append(yp)\n",
    "        if color == 1:\n",
    "            x_true.append(xp)\n",
    "            y_true.append(yp)\n",
    "        else:\n",
    "            x_false.append(xp)\n",
    "            y_false.append(yp)\n",
    "        c.append(color)\n",
    "    data = int_data\n",
    "print(\"Total points:\", len(x))"
   ]
  },
  {
   "cell_type": "code",
   "execution_count": 8,
   "metadata": {
    "collapsed": false
   },
   "outputs": [
    {
     "data": {
      "image/png": "[encoded data removed]",
      "text/plain": [
       "<matplotlib.figure.Figure at 0x7f9fc414f668>"
      ]
     },
     "metadata": {},
     "output_type": "display_data"
    }
   ],
   "source": [
    "import matplotlib.pyplot as plt\n",
    "true = plt.scatter(x_true, y_true,c=\"blue\", s=40)\n",
    "false = plt.scatter(x_false, y_false,c=\"red\", s=40, marker=\"^\")\n",
    "plt.xlabel('x')\n",
    "plt.ylabel('y')\n",
    "plt.xlim(-1, 1.3)\n",
    "plt.ylim(-1, 1.3)\n",
    "plt.legend((true, false), (\"1\", \"0\"), scatterpoints=1)\n",
    "plt.show()"
   ]
  },
  {
   "cell_type": "code",
   "execution_count": 65,
   "metadata": {
    "collapsed": false
   },
   "outputs": [],
   "source": [
    "import random\n",
    "from collections import defaultdict\n",
    "\n",
    "def kNN(data, k, distance_fun, transform_coord_fun, metric_fun, k_cross_validation=10, random_seed = 1):\n",
    "    if random_seed != None:\n",
    "        random.seed(random_seed)\n",
    "\n",
    "    rand_data = []\n",
    "    for row in data:\n",
    "        rand_data.append(row)\n",
    "        \n",
    "    random.shuffle(rand_data)\n",
    "    color = []\n",
    "    new_data = []\n",
    "    for row in rand_data:\n",
    "        new_data.append(transform_coord_fun(row[:-1]))\n",
    "        color.append(row[-1])\n",
    "        \n",
    "    n = len(data)\n",
    "    block_length = n // k_cross_validation\n",
    "    start_pos = 0\n",
    "    num_block = 0\n",
    "    partition = []\n",
    "    while start_pos < n:\n",
    "        end_pos = start_pos + block_length\n",
    "        if num_block < n % k_cross_validation:\n",
    "            end_pos += 1\n",
    "        partition.append((start_pos, min(n, end_pos)))\n",
    "        start_pos = end_pos\n",
    "    \n",
    "    metric_sum = 0\n",
    "    for part in partition:\n",
    "        predicted_color = []\n",
    "        for i in range(part[0], part[1]):\n",
    "            cnt = {}\n",
    "            cnt = defaultdict(lambda: 0, cnt)\n",
    "            distances = []\n",
    "            for j in range(0, n):\n",
    "                if j < part[0] or j >= part[1]:\n",
    "                    distances.append((distance_fun(new_data[i], new_data[j]), color[j]))\n",
    "            distances.sort()\n",
    "\n",
    "            frequent = (0, 0)\n",
    "            for i in range(k):\n",
    "                cur_color = distances[i][1]\n",
    "                cnt[cur_color] += 1\n",
    "                if cnt[cur_color] > frequent[0]:\n",
    "                    frequent = (cnt[cur_color], cur_color)\n",
    "            predicted_color.append(frequent[1])\n",
    "        metric_sum += metric_fun(predicted_color, color[part[0]:part[1]])\n",
    "    metric_sum /= k_cross_validation\n",
    "    return metric_sum"
   ]
  },
  {
   "cell_type": "code",
   "execution_count": 81,
   "metadata": {
    "collapsed": false
   },
   "outputs": [
    {
     "name": "stdout",
     "output_type": "stream",
     "text": [
      "Accuracy: 0.7366666666666667\n"
     ]
    }
   ],
   "source": [
    "import math\n",
    "def euclidean_distance(a, b):\n",
    "    s = 0\n",
    "    for (x1, x2) in zip(a, b):\n",
    "        s += (x1 - x2)**2\n",
    "    return math.sqrt(s)\n",
    "\n",
    "def id_transform(v):\n",
    "    return v\n",
    "\n",
    "def accuracy_metric(prediction, correct):\n",
    "    acc = 0\n",
    "    for (p, c) in zip(prediction, correct):\n",
    "        acc += p == c\n",
    "    return acc / len(prediction)\n",
    "\n",
    "print(\"Accuracy:\", kNN(data, 3, euclidean_distance, id_transform, accuracy_metric))"
   ]
  }
 ],
 "metadata": {
  "kernelspec": {
   "display_name": "Python 3",
   "language": "python",
   "name": "python3"
  },
  "language_info": {
   "codemirror_mode": {
    "name": "ipython",
    "version": 3
   },
   "file_extension": ".py",
   "mimetype": "text/x-python",
   "name": "python",
   "nbconvert_exporter": "python",
   "pygments_lexer": "ipython3",
   "version": "3.4.3"
  }
 },
 "nbformat": 4,
 "nbformat_minor": 0
}
