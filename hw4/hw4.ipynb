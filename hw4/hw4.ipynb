{
 "cells": [
  {
   "cell_type": "code",
   "execution_count": null,
   "metadata": {
    "collapsed": true
   },
   "outputs": [],
   "source": [
    "import numpy as np\n",
    "\n",
    "def transfer(fr, to, x):\n",
    "    fr.remove(x)\n",
    "    to.add(x)\n",
    "\n",
    "def searchByComp(s, arr, comp):\n",
    "    ret = None\n",
    "    for x in s:\n",
    "        if ret is None or comp(arr[x], ret[0]):\n",
    "            ret = (arr[x], x)\n",
    "    return ret\n",
    "\n",
    "def svm_incas(X, Y, C, kernel):\n",
    "    n = len(X)\n",
    "    Is = set()\n",
    "    Io = set()\n",
    "    Ic = set()\n",
    "    lam = np.arange(n)\n",
    "    margin = np.arange(n)\n",
    "    e = np.ones(n, np.int32)\n",
    "    \n",
    "    IoIcChanged = True\n",
    "    while IoIcChanged:\n",
    "        IsChanged = True\n",
    "        while hasChangesIs:\n",
    "            #TODO impl here\n",
    "            initLen = len(Is)\n",
    "            if len(Is) > 2:\n",
    "                minPair = searchByComp(Is, lam, 'min')\n",
    "                if minPair[0] <= 0:\n",
    "                    transfer(Is, Io, minPair[1])\n",
    "            if len(Is) > 2:\n",
    "                minPair = searchByComp(Is, lam, 'max')\n",
    "                if minPair[0] >= C:\n",
    "                    transert(Is, Ic, minPair[1])\n",
    "            IsChanged = not initLen == len(Is)\n",
    "        \n",
    "        #Calc w and w0\n",
    "        sc = np.array(list(Is | Ic), np.int32)\n",
    "        w = (X[sc, :] * lam[cs, :].rehaspe((-1, 1)) * Y[sc, :].reshape((-1, 1))).sum(axis=1)\n",
    "        i = next(iter(Is))\n",
    "        w0 = np.dot(X[i], w) - Y[i]\n",
    "        \n",
    "        #Calc margin\n",
    "        oc = np.array(list(Io | Ic), np.int32)\n",
    "        margin[oc] = np.dot(Xs[oc, :], w) - w0\n",
    "        \n",
    "        #\n",
    "        initLen = len(Is)\n",
    "        minPair = searchByComp(Io, margin, 'min')\n",
    "        if minPair[0] <= 1:\n",
    "            transfer(Io, Is, minPair[1])\n",
    "        minPair = searchByComp(Ic, margins, 'max')\n",
    "        if minPair[0] >= 1:\n",
    "            transfer(Ic, Is, minPair[1])\n",
    "        IoIcChanged = not initLen == len(Is)"
   ]
  }
 ],
 "metadata": {
  "kernelspec": {
   "display_name": "Python 3",
   "language": "python",
   "name": "python3"
  },
  "language_info": {
   "codemirror_mode": {
    "name": "ipython",
    "version": 3
   },
   "file_extension": ".py",
   "mimetype": "text/x-python",
   "name": "python",
   "nbconvert_exporter": "python",
   "pygments_lexer": "ipython3",
   "version": "3.4.3"
  }
 },
 "nbformat": 4,
 "nbformat_minor": 0
}
