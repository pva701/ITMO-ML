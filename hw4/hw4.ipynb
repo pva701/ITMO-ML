{
 "cells": [
  {
   "cell_type": "code",
   "execution_count": 6,
   "metadata": {
    "collapsed": false
   },
   "outputs": [],
   "source": [
    "import numpy as np\n",
    "arr = np.genfromtxt('data/chips.csv', delimiter=',')\n",
    "xs, ys = arr[:,:2].copy(), np.int32(arr[:, 2:].ravel())\n",
    "ys = 2 * ys - 1"
   ]
  },
  {
   "cell_type": "code",
   "execution_count": 7,
   "metadata": {
    "collapsed": true
   },
   "outputs": [],
   "source": [
    "def f1_score(predicted, true):\n",
    "    tp = ((predicted == true) * (predicted == 1)).sum()\n",
    "    tn = ((predicted == true) * (predicted == -1)).sum()\n",
    "    fp = ((predicted != true) * (predicted == 1)).sum()\n",
    "    fn = ((predicted != true) * (predicted == -1)).sum()\n",
    "    p = tp*1.0/max(1, tp+fp)\n",
    "    r = tp*1.0/max(1, tp+fn)\n",
    "    return (2*p*r/max(1, p+r), tp, fn, fp, tn)"
   ]
  },
  {
   "cell_type": "code",
   "execution_count": 22,
   "metadata": {
    "collapsed": true
   },
   "outputs": [],
   "source": [
    "def shuffle(X, y):\n",
    "    p = np.arange(0, X.shape[0])\n",
    "    np.random.shuffle(p)\n",
    "    return (X[p], y[p])\n",
    "xs, ys = shuffle(xs, ys)"
   ]
  },
  {
   "cell_type": "code",
   "execution_count": 9,
   "metadata": {
    "collapsed": true
   },
   "outputs": [],
   "source": [
    "def split(X, y, part=10):\n",
    "    p = X.shape[0] // part\n",
    "    return X[p:], y[p:], X[:p], y[:p]"
   ]
  },
  {
   "cell_type": "code",
   "execution_count": 10,
   "metadata": {
    "collapsed": true
   },
   "outputs": [],
   "source": [
    "from sklearn.cross_validation import KFold\n",
    "def kf_cross_validation(regressor, xs, ys, n_fold=10, times=1, **params):\n",
    "    measure = lambda x, y: f1_score(x, y)[0]\n",
    "    res = 0\n",
    "    for _ in range(times):\n",
    "        kf = KFold(len(xs), n_fold, True, 0)\n",
    "        kf_sum = 0\n",
    "        fold_num = 0\n",
    "        for train_i, test_i in kf:\n",
    "            regressor.fit(xs[train_i], ys[train_i], **params)\n",
    "            predicted = regressor.predict(xs[test_i])\n",
    "            meas = measure(predicted, ys[test_i])\n",
    "            fold_num += 1\n",
    "            kf_sum += meas\n",
    "            print(ys[test_i])\n",
    "            print(\"Time {}, fold {} done, measure = {}\".format(_, fold_num, meas))\n",
    "        res += kf_sum/n_fold\n",
    "    return res/times"
   ]
  },
  {
   "cell_type": "code",
   "execution_count": 11,
   "metadata": {
    "collapsed": true
   },
   "outputs": [],
   "source": [
    "class SVM_SGD:\n",
    "    def __init__(self, phi=None):\n",
    "        self.phi = phi\n",
    "        \n",
    "    def fit(self, X, Y, C, lr=0.01, eps=1e-5, iters=1000):#K(x1, x2)=<phi(x1), phi(x2)>\n",
    "        if self.phi is not None:\n",
    "            X = np.apply_along_axis(self.phi, 1, X)\n",
    "        teta = 1.0 / (2 * C)\n",
    "        n = X.shape[0]\n",
    "        dim = X.shape[1]\n",
    "\n",
    "        last_obj= -np.inf\n",
    "        t = lr\n",
    "        lr = 1.\n",
    "\n",
    "        #init value\n",
    "        w = np.zeros(dim)\n",
    "        w0 = 0\n",
    "        for it in range(iters):\n",
    "            for x,y in zip(X, Y):\n",
    "                margin = y * (np.dot(x, w) - w0)\n",
    "                sl = np.maximum(1 - margin, 0)\n",
    "                w = w - lr * (-sl * y * x + 2 * teta * w)\n",
    "                w0 = w0 - lr * (sl * y)\n",
    "            margin = (np.dot(X, w) - w0) * Y\n",
    "            cur_obj = np.maximum(1 - margin, 0).sum() + teta * np.dot(w, w)\n",
    "            if abs(last_obj - cur_obj) < eps:\n",
    "                break\n",
    "            last_obj = cur_obj\n",
    "\n",
    "            lr = lr*(1+lr*t*it)**-1\n",
    "        self.w, self.w0 = w, w0\n",
    "        #print(\"w = {}, w0 = {}\".format(w, w0))\n",
    "    \n",
    "    def predict(self, x):\n",
    "        if self.phi is not None:\n",
    "            x = np.apply_along_axis(self.phi, 1, x)\n",
    "        return np.ndarray.astype(np.sign(np.dot(x, self.w) - self.w0), np.int32)"
   ]
  },
  {
   "cell_type": "code",
   "execution_count": 12,
   "metadata": {
    "collapsed": true
   },
   "outputs": [],
   "source": [
    "def print_f1Nmatrix(t):\n",
    "    print(\"confusion matrix\")\n",
    "    print(t[1], t[2])\n",
    "    print(t[3], t[4])\n",
    "    print(\"f1_score = \", t[0])"
   ]
  },
  {
   "cell_type": "code",
   "execution_count": 13,
   "metadata": {
    "collapsed": false
   },
   "outputs": [
    {
     "name": "stdout",
     "output_type": "stream",
     "text": [
      "No kernel, C = 100\n",
      "confusion matrix\n",
      "30 28\n",
      "26 34\n",
      "f1_score =  0.526315789474\n"
     ]
    }
   ],
   "source": [
    "print(\"No kernel, C = 100\")\n",
    "svm = SVM_SGD()\n",
    "svm.fit(xs, ys, 100)\n",
    "pr = svm.predict(xs)\n",
    "print_f1Nmatrix(f1_score(pr, ys))"
   ]
  },
  {
   "cell_type": "code",
   "execution_count": 23,
   "metadata": {
    "collapsed": false
   },
   "outputs": [
    {
     "name": "stdout",
     "output_type": "stream",
     "text": [
      "phi (x, y, x**2+y**2)\n",
      "C = 1\n",
      "[ 1 -1 -1  1  1  1  1  1  1 -1 -1 -1]\n",
      "Time 0, fold 1 done, measure = 0.0\n",
      "[ 1 -1  1  1  1  1 -1 -1  1  1  1 -1]\n",
      "Time 0, fold 2 done, measure = 0.0\n",
      "[-1  1  1  1  1 -1 -1  1 -1  1  1  1]\n",
      "Time 0, fold 3 done, measure = 0.0\n",
      "[ 1  1 -1  1 -1 -1 -1  1 -1 -1  1 -1]\n",
      "Time 0, fold 4 done, measure = 0.0\n",
      "[ 1  1  1 -1 -1  1  1 -1 -1  1 -1  1]\n",
      "Time 0, fold 5 done, measure = 0.0\n",
      "[-1 -1 -1 -1  1  1  1  1  1 -1 -1 -1]\n",
      "Time 0, fold 6 done, measure = 0.0\n",
      "[-1  1  1  1  1 -1 -1 -1  1 -1  1 -1]\n",
      "Time 0, fold 7 done, measure = 0.0\n",
      "[ 1 -1 -1 -1 -1 -1  1  1 -1 -1  1 -1]\n",
      "Time 0, fold 8 done, measure = 0.0\n",
      "[ 1 -1  1 -1 -1  1 -1  1 -1  1 -1]\n",
      "Time 0, fold 9 done, measure = 0.0\n",
      "[-1 -1 -1 -1  1 -1 -1  1  1 -1 -1]\n",
      "Time 0, fold 10 done, measure = 0.0\n",
      "f1_score = 0.0\n",
      "--------------------------------------------------\n",
      "C = 10\n",
      "[ 1 -1 -1  1  1  1  1  1  1 -1 -1 -1]\n",
      "Time 0, fold 1 done, measure = 0.7692307692307692\n",
      "[ 1 -1  1  1  1  1 -1 -1  1  1  1 -1]\n",
      "Time 0, fold 2 done, measure = 0.7999999999999999\n",
      "[-1  1  1  1  1 -1 -1  1 -1  1  1  1]\n",
      "Time 0, fold 3 done, measure = 0.8571428571428571\n",
      "[ 1  1 -1  1 -1 -1 -1  1 -1 -1  1 -1]\n",
      "Time 0, fold 4 done, measure = 0.7272727272727272\n",
      "[ 1  1  1 -1 -1  1  1 -1 -1  1 -1  1]\n",
      "Time 0, fold 5 done, measure = 0.6666666666666666\n",
      "[-1 -1 -1 -1  1  1  1  1  1 -1 -1 -1]\n",
      "Time 0, fold 6 done, measure = 0.6666666666666665\n",
      "[-1  1  1  1  1 -1 -1 -1  1 -1  1 -1]\n",
      "Time 0, fold 7 done, measure = 0.8333333333333334\n",
      "[ 1 -1 -1 -1 -1 -1  1  1 -1 -1  1 -1]\n",
      "Time 0, fold 8 done, measure = 0.5454545454545454\n",
      "[ 1 -1  1 -1 -1  1 -1  1 -1  1 -1]\n",
      "Time 0, fold 9 done, measure = 0.8000000000000002\n",
      "[-1 -1 -1 -1  1 -1 -1  1  1 -1 -1]\n",
      "Time 0, fold 10 done, measure = 1.0\n",
      "f1_score = 0.766576756577\n",
      "--------------------------------------------------\n",
      "C = 100\n",
      "[ 1 -1 -1  1  1  1  1  1  1 -1 -1 -1]\n",
      "Time 0, fold 1 done, measure = 0.7272727272727273\n",
      "[ 1 -1  1  1  1  1 -1 -1  1  1  1 -1]\n",
      "Time 0, fold 2 done, measure = 0.7999999999999999\n",
      "[-1  1  1  1  1 -1 -1  1 -1  1  1  1]\n",
      "Time 0, fold 3 done, measure = 0.8571428571428571\n",
      "[ 1  1 -1  1 -1 -1 -1  1 -1 -1  1 -1]\n",
      "Time 0, fold 4 done, measure = 0.8000000000000002\n",
      "[ 1  1  1 -1 -1  1  1 -1 -1  1 -1  1]\n",
      "Time 0, fold 5 done, measure = 0.75\n",
      "[-1 -1 -1 -1  1  1  1  1  1 -1 -1 -1]\n",
      "Time 0, fold 6 done, measure = 0.6\n",
      "[-1  1  1  1  1 -1 -1 -1  1 -1  1 -1]\n",
      "Time 0, fold 7 done, measure = 0.8333333333333334\n",
      "[ 1 -1 -1 -1 -1 -1  1  1 -1 -1  1 -1]\n",
      "Time 0, fold 8 done, measure = 0.6666666666666666\n",
      "[ 1 -1  1 -1 -1  1 -1  1 -1  1 -1]\n",
      "Time 0, fold 9 done, measure = 0.9090909090909091\n",
      "[-1 -1 -1 -1  1 -1 -1  1  1 -1 -1]\n",
      "Time 0, fold 10 done, measure = 1.0\n",
      "f1_score = 0.794350649351\n",
      "--------------------------------------------------\n",
      "C = 1000\n",
      "[ 1 -1 -1  1  1  1  1  1  1 -1 -1 -1]\n",
      "Time 0, fold 1 done, measure = 0.7272727272727273\n",
      "[ 1 -1  1  1  1  1 -1 -1  1  1  1 -1]\n",
      "Time 0, fold 2 done, measure = 0.7999999999999999\n",
      "[-1  1  1  1  1 -1 -1  1 -1  1  1  1]\n",
      "Time 0, fold 3 done, measure = 0.8571428571428571\n",
      "[ 1  1 -1  1 -1 -1 -1  1 -1 -1  1 -1]\n",
      "Time 0, fold 4 done, measure = 0.8000000000000002\n",
      "[ 1  1  1 -1 -1  1  1 -1 -1  1 -1  1]\n",
      "Time 0, fold 5 done, measure = 0.75\n",
      "[-1 -1 -1 -1  1  1  1  1  1 -1 -1 -1]\n",
      "Time 0, fold 6 done, measure = 0.6\n",
      "[-1  1  1  1  1 -1 -1 -1  1 -1  1 -1]\n",
      "Time 0, fold 7 done, measure = 0.8333333333333334\n",
      "[ 1 -1 -1 -1 -1 -1  1  1 -1 -1  1 -1]\n",
      "Time 0, fold 8 done, measure = 0.8\n",
      "[ 1 -1  1 -1 -1  1 -1  1 -1  1 -1]\n",
      "Time 0, fold 9 done, measure = 0.9090909090909091\n",
      "[-1 -1 -1 -1  1 -1 -1  1  1 -1 -1]\n",
      "Time 0, fold 10 done, measure = 1.0\n",
      "f1_score = 0.807683982684\n",
      "--------------------------------------------------\n",
      "C = 10000\n",
      "[ 1 -1 -1  1  1  1  1  1  1 -1 -1 -1]\n",
      "Time 0, fold 1 done, measure = 0.7272727272727273\n",
      "[ 1 -1  1  1  1  1 -1 -1  1  1  1 -1]\n",
      "Time 0, fold 2 done, measure = 0.7999999999999999\n",
      "[-1  1  1  1  1 -1 -1  1 -1  1  1  1]\n",
      "Time 0, fold 3 done, measure = 0.8571428571428571\n",
      "[ 1  1 -1  1 -1 -1 -1  1 -1 -1  1 -1]\n",
      "Time 0, fold 4 done, measure = 0.8000000000000002\n",
      "[ 1  1  1 -1 -1  1  1 -1 -1  1 -1  1]\n",
      "Time 0, fold 5 done, measure = 0.75\n",
      "[-1 -1 -1 -1  1  1  1  1  1 -1 -1 -1]\n",
      "Time 0, fold 6 done, measure = 0.6\n",
      "[-1  1  1  1  1 -1 -1 -1  1 -1  1 -1]\n",
      "Time 0, fold 7 done, measure = 0.8333333333333334\n",
      "[ 1 -1 -1 -1 -1 -1  1  1 -1 -1  1 -1]\n",
      "Time 0, fold 8 done, measure = 0.8\n",
      "[ 1 -1  1 -1 -1  1 -1  1 -1  1 -1]\n",
      "Time 0, fold 9 done, measure = 0.9090909090909091\n",
      "[-1 -1 -1 -1  1 -1 -1  1  1 -1 -1]\n",
      "Time 0, fold 10 done, measure = 1.0\n",
      "f1_score = 0.807683982684\n",
      "--------------------------------------------------\n"
     ]
    }
   ],
   "source": [
    "print(\"phi (x, y, x**2+y**2)\")\n",
    "svm = SVM_SGD(lambda x: np.array([x[0], x[1], x[0]**2+x[1]**2]))\n",
    "for C in [1, 10, 100, 1000, 10000]:\n",
    "    print(\"C =\", C)\n",
    "    print(\"f1_score =\", kf_cross_validation(svm, xs, ys, C=C))\n",
    "    print(\"--------------------------------------------------\")"
   ]
  },
  {
   "cell_type": "code",
   "execution_count": 26,
   "metadata": {
    "collapsed": false
   },
   "outputs": [
    {
     "name": "stdout",
     "output_type": "stream",
     "text": [
      "Full dataset\n",
      "confusion matrix\n",
      "46 12\n",
      "11 49\n",
      "f1_score =  0.8\n",
      "--------------------------------------------------\n"
     ]
    }
   ],
   "source": [
    "print(\"Full dataset\")\n",
    "svm.fit(xs, ys, 1000)\n",
    "prediction_svm = svm.predict(xs)\n",
    "print_f1Nmatrix(f1_score(prediction_svm, ys))\n",
    "print(\"--------------------------------------------------\")"
   ]
  },
  {
   "cell_type": "code",
   "execution_count": 27,
   "metadata": {
    "collapsed": false
   },
   "outputs": [
    {
     "name": "stdout",
     "output_type": "stream",
     "text": [
      "Wilcoxon\n",
      "(106, 1.5142857142857142)\n"
     ]
    }
   ],
   "source": [
    "import knn\n",
    "from sklearn.preprocessing import MinMaxScaler, StandardScaler\n",
    "\n",
    "def wilcoxon(x, y):\n",
    "    assert len(x) == len(y)\n",
    "    d = x - y\n",
    "    d = np.compress(np.not_equal(d, 0), d, axis=-1)\n",
    "    count = len(d)\n",
    "    assert count >= 10    \n",
    "    r = np.sort(abs(d))\n",
    "    nr = len(r)\n",
    "    for i in range(0, nr):\n",
    "        j = i\n",
    "        while j < nr and r[i] == r[j]:\n",
    "            j += 1\n",
    "        r[i:j] = (j*(j-1)/2 - i*(i-1)/2) / (j - i)\n",
    "    W = sum(r * np.sign(d))\n",
    "    z_score = W / np.sqrt(nr*(nr+1)*(2*nr+1)/6)\n",
    "    return W, z_score\n",
    "\n",
    "def weight1(x):\n",
    "    return x/x\n",
    "\n",
    "print(\"Wilcoxon\")\n",
    "X_train, y_train, X_test, y_test = xs, ys, xs, ys #split(xs, ys, 10)\n",
    "scaler=StandardScaler(copy=True, with_mean=True, with_std=True)\n",
    "prediction_knn = knn.batchKnn(X_train, y_train, 3, weight_f=weight1, metric_f='l2')\n",
    "print(wilcoxon(prediction_knn, prediction_svm))"
   ]
  }
 ],
 "metadata": {
  "kernelspec": {
   "display_name": "Python 3",
   "language": "python",
   "name": "python3"
  },
  "language_info": {
   "codemirror_mode": {
    "name": "ipython",
    "version": 3
   },
   "file_extension": ".py",
   "mimetype": "text/x-python",
   "name": "python",
   "nbconvert_exporter": "python",
   "pygments_lexer": "ipython3",
   "version": "3.4.3"
  }
 },
 "nbformat": 4,
 "nbformat_minor": 0
}
