{
 "cells": [
  {
   "cell_type": "code",
   "execution_count": 1,
   "metadata": {
    "collapsed": false
   },
   "outputs": [],
   "source": [
    "import numpy as np\n",
    "from IPython.display import display, clear_output\n",
    "arr = np.genfromtxt('data/chips.csv', delimiter=',')\n",
    "xs, ys = arr[:,:2].copy(), np.int32(arr[:, 2:].ravel())\n",
    "ys = 2 * ys - 1"
   ]
  },
  {
   "cell_type": "code",
   "execution_count": 2,
   "metadata": {
    "collapsed": true
   },
   "outputs": [],
   "source": [
    "def f1_score(predicted, true):\n",
    "    tp = ((predicted == true) * (predicted == 1)).sum()\n",
    "    tn = ((predicted == true) * (predicted == -1)).sum()\n",
    "    fp = ((predicted != true) * (predicted == 1)).sum()\n",
    "    fn = ((predicted != true) * (predicted == -1)).sum()\n",
    "    p = tp*1.0/max(1, tp+fp)\n",
    "    r = tp*1.0/max(1, tp+fn)\n",
    "    return (2*p*r/max(1, p+r), tp, fn, fp, tn)"
   ]
  },
  {
   "cell_type": "code",
   "execution_count": 3,
   "metadata": {
    "collapsed": true
   },
   "outputs": [],
   "source": [
    "def shuffle(X, y):\n",
    "    p = np.arange(0, X.shape[0])\n",
    "    np.random.shuffle(p)\n",
    "    return (X[p], y[p])\n",
    "xs, ys = shuffle(xs, ys)"
   ]
  },
  {
   "cell_type": "code",
   "execution_count": 4,
   "metadata": {
    "collapsed": true
   },
   "outputs": [],
   "source": [
    "def split(X, y, part=10):\n",
    "    p = X.shape[0] // part\n",
    "    return X[p:], y[p:], X[:p], y[:p]"
   ]
  },
  {
   "cell_type": "code",
   "execution_count": 5,
   "metadata": {
    "collapsed": true
   },
   "outputs": [],
   "source": [
    "from sklearn.cross_validation import KFold\n",
    "def kf_cross_validation(regressor, xs, ys, n_fold=10, kf=None, **params):\n",
    "    measure = lambda x, y: f1_score(x, y)[0]\n",
    "    kf_sum = 0\n",
    "    f1_scores = []\n",
    "    if kf is None:\n",
    "        kf = KFold(len(xs), n_fold, True, 0)\n",
    "    fold_num = 0\n",
    "    for train_i, test_i in kf:\n",
    "        regressor.fit(xs[train_i], ys[train_i], **params)\n",
    "        predicted = regressor.predict(xs[test_i])\n",
    "        meas = measure(predicted, ys[test_i])\n",
    "        f1_scores.append(meas)\n",
    "        kf_sum += meas\n",
    "        fold_num += 1\n",
    "        print(\"Fold {} done, measure = {}\".format(fold_num, meas))\n",
    "    return (kf_sum/len(kf), np.array(f1_scores))"
   ]
  },
  {
   "cell_type": "code",
   "execution_count": 6,
   "metadata": {
    "collapsed": true
   },
   "outputs": [],
   "source": [
    "class SVM_SGD:\n",
    "    def __init__(self, phi=None):\n",
    "        self.phi = phi\n",
    "        \n",
    "    def fit(self, X, Y, C, lr=0.01, eps=1e-5, iters=1000):#K(x1, x2)=<phi(x1), phi(x2)>\n",
    "        if self.phi is not None:\n",
    "            X = np.apply_along_axis(self.phi, 1, X)\n",
    "        teta = 1.0 / (2 * C)\n",
    "        n = X.shape[0]\n",
    "        dim = X.shape[1]\n",
    "\n",
    "        last_obj= -np.inf\n",
    "        t = lr\n",
    "        lr = 1.\n",
    "\n",
    "        #init value\n",
    "        w = np.zeros(dim)\n",
    "        w0 = 0\n",
    "        for it in range(iters):\n",
    "            for x,y in zip(X, Y):\n",
    "                margin = y * (np.dot(x, w) - w0)\n",
    "                sl = np.maximum(1 - margin, 0)\n",
    "                w = w - lr * (-sl * y * x + 2 * teta * w)\n",
    "                w0 = w0 - lr * (sl * y)\n",
    "            margin = (np.dot(X, w) - w0) * Y\n",
    "            cur_obj = np.maximum(1 - margin, 0).sum() + teta * np.dot(w, w)\n",
    "            if abs(last_obj - cur_obj) < eps:\n",
    "                break\n",
    "            last_obj = cur_obj\n",
    "\n",
    "            lr = lr*(1+lr*t*it)**-1\n",
    "        self.w, self.w0 = w, w0\n",
    "    \n",
    "    def predict(self, x):\n",
    "        if self.phi is not None:\n",
    "            x = np.apply_along_axis(self.phi, 1, x)\n",
    "        return np.ndarray.astype(np.sign(np.dot(x, self.w) - self.w0), np.int32)"
   ]
  },
  {
   "cell_type": "code",
   "execution_count": 7,
   "metadata": {
    "collapsed": true
   },
   "outputs": [],
   "source": [
    "def print_f1Nmatrix(t):\n",
    "    print(\"confusion matrix\")\n",
    "    print(t[1], t[2])\n",
    "    print(t[3], t[4])\n",
    "    print(\"f1_score = \", t[0])"
   ]
  },
  {
   "cell_type": "code",
   "execution_count": 8,
   "metadata": {
    "collapsed": false
   },
   "outputs": [
    {
     "name": "stdout",
     "output_type": "stream",
     "text": [
      "No kernel, C = 100\n",
      "confusion matrix\n",
      "29 29\n",
      "25 35\n",
      "f1_score =  0.517857142857\n"
     ]
    }
   ],
   "source": [
    "print(\"No kernel, C = 100\")\n",
    "svm = SVM_SGD()\n",
    "svm.fit(xs, ys, 100)\n",
    "pr = svm.predict(xs)\n",
    "print_f1Nmatrix(f1_score(pr, ys))"
   ]
  },
  {
   "cell_type": "code",
   "execution_count": 19,
   "metadata": {
    "collapsed": false
   },
   "outputs": [
    {
     "name": "stdout",
     "output_type": "stream",
     "text": [
      "phi (x, y, x**2+y**2, 2xy)\n",
      "C = 2\n",
      "Fold 1 done, measure = 0.6666666666666666\n",
      "Fold 2 done, measure = 0.6666666666666666\n",
      "Fold 3 done, measure = 0.5882352941176471\n",
      "Fold 4 done, measure = 0.5882352941176471\n",
      "Fold 5 done, measure = 0.6666666666666666\n",
      "Fold 6 done, measure = 0.8\n",
      "Fold 7 done, measure = 0.5882352941176471\n",
      "Fold 8 done, measure = 0.5882352941176471\n",
      "Fold 9 done, measure = 0.625\n",
      "Fold 10 done, measure = 0.7777777777777778\n",
      "f1_score = 0.655571895425\n",
      "--------------------------------------------------\n",
      "C = 10\n",
      "Fold 1 done, measure = 1.0\n",
      "Fold 2 done, measure = 0.8571428571428571\n",
      "Fold 3 done, measure = 0.7272727272727272\n",
      "Fold 4 done, measure = 0.888888888888889\n",
      "Fold 5 done, measure = 0.8333333333333334\n",
      "Fold 6 done, measure = 0.8571428571428571\n",
      "Fold 7 done, measure = 0.9090909090909091\n",
      "Fold 8 done, measure = 0.7142857142857143\n",
      "Fold 9 done, measure = 0.6153846153846154\n",
      "Fold 10 done, measure = 0.7142857142857143\n",
      "f1_score = 0.811682761683\n",
      "--------------------------------------------------\n",
      "C = 100\n",
      "Fold 1 done, measure = 1.0\n",
      "Fold 2 done, measure = 0.8571428571428571\n",
      "Fold 3 done, measure = 0.8000000000000002\n",
      "Fold 4 done, measure = 0.888888888888889\n",
      "Fold 5 done, measure = 0.8333333333333334\n",
      "Fold 6 done, measure = 0.8571428571428571\n",
      "Fold 7 done, measure = 0.888888888888889\n",
      "Fold 8 done, measure = 0.8333333333333333\n",
      "Fold 9 done, measure = 0.7692307692307693\n",
      "Fold 10 done, measure = 0.7142857142857143\n",
      "f1_score = 0.844224664225\n",
      "--------------------------------------------------\n",
      "C = 1000\n",
      "Fold 1 done, measure = 0.9090909090909091\n",
      "Fold 2 done, measure = 0.7692307692307692\n",
      "Fold 3 done, measure = 0.7272727272727272\n",
      "Fold 4 done, measure = 0.888888888888889\n",
      "Fold 5 done, measure = 0.8333333333333334\n",
      "Fold 6 done, measure = 0.8571428571428571\n",
      "Fold 7 done, measure = 0.888888888888889\n",
      "Fold 8 done, measure = 0.8000000000000002\n",
      "Fold 9 done, measure = 0.8333333333333333\n",
      "Fold 10 done, measure = 0.7142857142857143\n",
      "f1_score = 0.822146742147\n",
      "--------------------------------------------------\n"
     ]
    }
   ],
   "source": [
    "print(\"phi (x, y, x**2+y**2, 2xy)\")\n",
    "svm = SVM_SGD(lambda x: np.array([x[0], x[1], x[0]**2+x[1]**2, x[0]**2+2*x[0]*x[1]+x[1]**2]))\n",
    "for C in [2, 10, 100, 1000]:\n",
    "    print(\"C =\", C)\n",
    "    print(\"f1_score =\", kf_cross_validation(svm, xs, ys, C=C)[0])\n",
    "    print(\"--------------------------------------------------\")"
   ]
  },
  {
   "cell_type": "code",
   "execution_count": 10,
   "metadata": {
    "collapsed": false
   },
   "outputs": [
    {
     "name": "stdout",
     "output_type": "stream",
     "text": [
      "Full dataset\n",
      "confusion matrix\n",
      "46 12\n",
      "9 51\n",
      "f1_score =  0.814159292035\n",
      "--------------------------------------------------\n"
     ]
    }
   ],
   "source": [
    "print(\"Full dataset\")\n",
    "svm.fit(xs, ys, 1000)\n",
    "prediction_svm = svm.predict(xs)\n",
    "print_f1Nmatrix(f1_score(prediction_svm, ys))\n",
    "print(\"--------------------------------------------------\")"
   ]
  },
  {
   "cell_type": "code",
   "execution_count": 17,
   "metadata": {
    "collapsed": false
   },
   "outputs": [],
   "source": [
    "def wilcoxon(x, y):\n",
    "    assert len(x) == len(y)\n",
    "    d = x - y\n",
    "    d = np.compress(np.not_equal(d, 0), d, axis=-1)\n",
    "    count = len(d)  \n",
    "    r = np.sort(abs(d))\n",
    "    nr = len(r)\n",
    "    for i in range(0, nr):\n",
    "        j = i\n",
    "        while j < nr and r[i] == r[j]:\n",
    "            j += 1\n",
    "        r[i:j] = (j*(j-1)/2 - i*(i-1)/2) / (j - i)\n",
    "    W = sum(r * np.sign(d))\n",
    "    z_score = W / np.sqrt(nr*(nr+1)*(2*nr+1)/6)\n",
    "    return W, z_score\n",
    "\n",
    "def weight1(x):\n",
    "    return x/x"
   ]
  },
  {
   "cell_type": "code",
   "execution_count": 20,
   "metadata": {
    "collapsed": false
   },
   "outputs": [],
   "source": [
    "print(\"Compare KNN and SVM\")\n",
    "import knn\n",
    "n_fold = 10\n",
    "kf = KFold(len(xs), n_fold, True, 0)\n",
    "\n",
    "knn = knn.KNN()\n",
    "f1_knn, f1_scoresKnn = kf_cross_validation(knn, xs, ys, kf=kf, k=3, weight_f=weight1, metric_f='l2')\n",
    "print(\"KNN f1_score:\", f1_knn)\n",
    "f1_svm, f1_scoresSvm = kf_cross_validation(svm, xs, ys, kf=kf, C=1000)\n",
    "print(\"SVM f1_score:\", f1_svm)\n",
    "clear_output()"
   ]
  },
  {
   "cell_type": "code",
   "execution_count": 21,
   "metadata": {
    "collapsed": false
   },
   "outputs": [
    {
     "name": "stdout",
     "output_type": "stream",
     "text": [
      "Wilcoxon\n"
     ]
    },
    {
     "data": {
      "text/plain": [
       "(9.0, 0.94345635304972653)"
      ]
     },
     "execution_count": 21,
     "metadata": {},
     "output_type": "execute_result"
    }
   ],
   "source": [
    "print(\"Wilcoxon\")\n",
    "wilcoxon(f1_scoresSvm, f1_scoresKnn)"
   ]
  },
  {
   "cell_type": "code",
   "execution_count": null,
   "metadata": {
    "collapsed": true
   },
   "outputs": [],
   "source": []
  }
 ],
 "metadata": {
  "kernelspec": {
   "display_name": "Python 3",
   "language": "python",
   "name": "python3"
  },
  "language_info": {
   "codemirror_mode": {
    "name": "ipython",
    "version": 3
   },
   "file_extension": ".py",
   "mimetype": "text/x-python",
   "name": "python",
   "nbconvert_exporter": "python",
   "pygments_lexer": "ipython3",
   "version": "3.4.3"
  }
 },
 "nbformat": 4,
 "nbformat_minor": 0
}
