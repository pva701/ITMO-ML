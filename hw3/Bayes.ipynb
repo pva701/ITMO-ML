{
 "cells": [
  {
   "cell_type": "code",
   "execution_count": 1,
   "metadata": {
    "collapsed": true
   },
   "outputs": [],
   "source": [
    "%matplotlib notebook\n",
    "%reload_ext autoreload\n",
    "%autoreload 2\n",
    "import matplotlib.pyplot as plt\n",
    "import csv\n",
    "import numpy as np\n",
    "import pandas as pnd\n",
    "import numpy.random as rnd\n",
    "from sklearn.preprocessing import MinMaxScaler, StandardScaler\n",
    "import matplotlib.pyplot as plt\n",
    "from sklearn.cross_validation import KFold\n",
    "from itertools import product\n",
    "from collections import Counter\n",
    "import itertools\n",
    "from sklearn.linear_model import LinearRegression\n",
    "from IPython.display import display, clear_output\n",
    "import glob"
   ]
  },
  {
   "cell_type": "code",
   "execution_count": 131,
   "metadata": {
    "collapsed": true
   },
   "outputs": [],
   "source": [
    "class Message:\n",
    "    def __init__(self, text):\n",
    "        subject, _, body = tuple(text.splitlines())\n",
    "        self.subject = tuple([int(i) for i in subject.split()[1:]])\n",
    "        self.body = tuple([int(i) for i in body.split()])\n",
    "    def __iter__(self):\n",
    "        return iter(self.subject*0 + self.body)\n",
    "        "
   ]
  },
  {
   "cell_type": "code",
   "execution_count": 132,
   "metadata": {
    "collapsed": false
   },
   "outputs": [],
   "source": [
    "folds = []\n",
    "for part in glob.glob('data/Bayes/pu1/*'):\n",
    "    cur_dataset = {0: [], 1: []}\n",
    "    for msg_file in glob.glob(part + '/*'):\n",
    "        with open(msg_file, 'r') as data:\n",
    "            label = 1 if 'spmsg' in msg_file else 0\n",
    "            cur_dataset[label].append(Message(data.read()))\n",
    "    folds.append(cur_dataset)"
   ]
  },
  {
   "cell_type": "code",
   "execution_count": 139,
   "metadata": {
    "collapsed": false
   },
   "outputs": [],
   "source": [
    "class SpamClassifier:\n",
    "    def __init__(self, data, h=1.):\n",
    "        assert len(data) == 2 and 0 in data and 1 in data\n",
    "        total = sum(len(i) for i in data.values())\n",
    "        label_probability = {label: len(messages)/total for label, messages in data.items()}\n",
    "        self.label_probability = label_probability\n",
    "        assert min(label_probability.values()) > 0\n",
    "        vocab = Counter()\n",
    "        self.vocab = vocab\n",
    "        for ms in data.values():\n",
    "            for m in ms:\n",
    "                vocab.update(m)\n",
    "        print(sum(1 for v in vocab.values() if v < 5)/len(vocab))\n",
    "        probabilities = {label: {} for label in data}\n",
    "        self.probabilities = probabilities\n",
    "        for label, ms in data.items():\n",
    "            counter = Counter()\n",
    "            for m in ms:\n",
    "                counter.update(m)\n",
    "            total = sum(counter.values()) + len(vocab)\n",
    "            for w in vocab:\n",
    "                probabilities[label][w] = (counter[w] + 1)/total\n",
    "        self.threshold = 0\n",
    "        best_threshold = (self.threshold, self.score(data))\n",
    "        tmp = np.array([(self.predict(m, True)[1], 0) for m in data[0]] + [(self.predict(m, True)[1], 1) for m in data[1]])\n",
    "        for t in np.arange(0, 1, 0.001):\n",
    "            tp = ((tmp[:, 0]>=t) * (tmp[:,1])).sum()\n",
    "            tn = ((tmp[:, 0]<t) * (1-tmp[:,1])).sum()\n",
    "            fp = ((tmp[:, 0]>=t) * (1-tmp[:,1])).sum()\n",
    "            fn = ((tmp[:, 0]<t) * (tmp[:,1])).sum()\n",
    "            s = (tp+tn)/(tp+fp+tn+fn)\n",
    "            if fp / (tn + fp) <= h and s >= best_threshold[1]:\n",
    "                best_threshold = (t, s)\n",
    "        self.threshold = best_threshold[0]\n",
    "        \n",
    "    def score(self, data, full=False):\n",
    "        assert len(data) == 2 and 0 in data and 1 in data\n",
    "        tp = sum(self.predict(m) == 1 for m in data[1])\n",
    "        fn = len(data[1]) - tp\n",
    "        tn = sum(self.predict(m) == 0 for m in data[0])\n",
    "        fp = len(data[0]) - tn\n",
    "        if full:\n",
    "            return (tp + tn)/(tp+tn+fp+fn), tp, tn, fp, fn\n",
    "        return (tp + tn)/(tp+tn+fp+fn)\n",
    "                          \n",
    "    def predict(self, message, return_prob=False):\n",
    "        score = {}\n",
    "        for label in self.probabilities:\n",
    "            score[label] = np.log(self.label_probability[label])\n",
    "            score[label] += sum(np.log(self.probabilities[label][w]) for w in message if w in self.vocab)\n",
    "        assert score[1] < 0 and score[0] < 0\n",
    "        p = score[1]/score[0]\n",
    "        p = np.exp(1-p)/(1+np.exp(1-p))\n",
    "        ans = 1 if p >= self.threshold else 0\n",
    "        if return_prob:\n",
    "                return ans, p\n",
    "        return ans"
   ]
  },
  {
   "cell_type": "code",
   "execution_count": null,
   "metadata": {
    "collapsed": false
   },
   "outputs": [
    {
     "name": "stdout",
     "output_type": "stream",
     "text": [
      "0.7965763195435093\n",
      "0.7861618087714519\n",
      "0.7779265208984084\n"
     ]
    }
   ],
   "source": [
    "def merge(ds):\n",
    "    res = {}\n",
    "    for d in ds:\n",
    "        res.update(d.items())\n",
    "    return res\n",
    "s = 0\n",
    "for i in range(len(folds)):\n",
    "    train = folds[i]\n",
    "    classifier = SpamClassifier(train)\n",
    "    s += classifier.score(merge(folds[:i] + folds[i+1:]))\n",
    "print(s/len(folds))"
   ]
  },
  {
   "cell_type": "code",
   "execution_count": null,
   "metadata": {
    "collapsed": true
   },
   "outputs": [],
   "source": []
  }
 ],
 "metadata": {
  "kernelspec": {
   "display_name": "Python 3",
   "language": "python",
   "name": "python3"
  },
  "language_info": {
   "codemirror_mode": {
    "name": "ipython",
    "version": 3
   },
   "file_extension": ".py",
   "mimetype": "text/x-python",
   "name": "python",
   "nbconvert_exporter": "python",
   "pygments_lexer": "ipython3",
   "version": "3.5.2"
  }
 },
 "nbformat": 4,
 "nbformat_minor": 0
}
